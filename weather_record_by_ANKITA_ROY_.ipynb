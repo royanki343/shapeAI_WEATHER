{
  "nbformat": 4,
  "nbformat_minor": 0,
  "metadata": {
    "colab": {
      "name": "weather record by ANKITA ROY .ipynb",
      "provenance": [],
      "collapsed_sections": []
    },
    "kernelspec": {
      "name": "python3",
      "display_name": "Python 3"
    },
    "language_info": {
      "name": "python"
    }
  },
  "cells": [
    {
      "cell_type": "code",
      "metadata": {
        "id": "-54vLDpeHcKs"
      },
      "source": [
        "import requests\n",
        "#import os \n",
        "from datetime import datetime "
      ],
      "execution_count": 2,
      "outputs": []
    },
    {
      "cell_type": "code",
      "metadata": {
        "colab": {
          "base_uri": "https://localhost:8080/"
        },
        "id": "RcroQtvvOF_R",
        "outputId": "82e6bc1d-a389-42af-bc2a-4c1046559dca"
      },
      "source": [
        "api_key='5d4efdc0b3c82c93ff8a220be9c8be3e'\n",
        "location= input(\"enter the city name: \")"
      ],
      "execution_count": 3,
      "outputs": [
        {
          "output_type": "stream",
          "text": [
            "enter the city name: ranchi\n"
          ],
          "name": "stdout"
        }
      ]
    },
    {
      "cell_type": "code",
      "metadata": {
        "id": "e0aRXWUUSJQy"
      },
      "source": [
        "comp_api_link =\"https://api.openweathermap.org/data/2.5/weather?q=\"+location +\"&appid=\"+api_key\n",
        "api_link=requests.get(comp_api_link)\n",
        "api_data=api_link.json()"
      ],
      "execution_count": 9,
      "outputs": []
    },
    {
      "cell_type": "code",
      "metadata": {
        "colab": {
          "base_uri": "https://localhost:8080/"
        },
        "id": "Dv5WHg15T-mG",
        "outputId": "0fd5f0b7-be7a-4d0c-da8e-e4335baa1857"
      },
      "source": [
        "#create variables to store and display data \n",
        "temp_city=((api_data['main']['temp']) - 273.15)\n",
        "weather_decs =api_data['weather'][0]['description']\n",
        "hmdt =api_data['main']['humidity']\n",
        "wind_spd =api_data['wind']['speed']\n",
        "date_time =datetime.now().strftime(\"%d %b %y | %I:%M:%S %p\")\n",
        "\n",
        "\n",
        "print (\"----------------------------------------------------------------------------------------------\")\n",
        "print(\"WEATHER STATES FOR - {}  ||  {}\".format(location.upper(),date_time))\n",
        "print(\"-----------------------------------------------------------------------------------------------\")\n",
        "\n",
        "\n",
        "print(\"Currrent temperature  is :  {: .2f} deg C\" .format(temp_city))\n",
        "print(\"Current weather desc  :\",weather_decs)\n",
        "print(\"Current humidity  :\",hmdt, '%')\n",
        "print(\"Current wind speed  :\",wind_spd,'kmph')"
      ],
      "execution_count": 10,
      "outputs": [
        {
          "output_type": "stream",
          "text": [
            "----------------------------------------------------------------------------------------------\n",
            "WEATHER STATES FOR - RANCHI  ||  22 Jun 21 | 06:10:47 AM\n",
            "-----------------------------------------------------------------------------------------------\n",
            "Currrent temperature  is :   31.06 deg C\n",
            "Current weather desc  : haze\n",
            "Current humidity  : 66 %\n",
            "Current wind speed  : 1.03 kmph\n"
          ],
          "name": "stdout"
        }
      ]
    }
  ]
}